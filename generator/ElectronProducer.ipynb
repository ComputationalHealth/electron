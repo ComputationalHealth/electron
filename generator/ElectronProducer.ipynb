{
 "cells": [
  {
   "cell_type": "code",
   "execution_count": null,
   "metadata": {},
   "outputs": [],
   "source": [
    "from confluent_kafka import Producer\n",
    "import json\n",
    "import random\n",
    "import numpy as np\n",
    "import time\n",
    "import os, binascii\n",
    "from datetime import datetime"
   ]
  },
  {
   "cell_type": "code",
   "execution_count": null,
   "metadata": {},
   "outputs": [],
   "source": [
    "# Queue signal to Kafka\n",
    "\n",
    "def queue_signals(signal_data):\n",
    "    p = Producer({'bootstrap.servers': '10.6.0.155:9092'})\n",
    "    p.produce('electron', key='12345', value=json.dumps(signal_data))\n",
    "    p.flush(3)"
   ]
  },
  {
   "cell_type": "code",
   "execution_count": null,
   "metadata": {},
   "outputs": [],
   "source": [
    "# Create lists for pseudorandom data generation\n",
    "\n",
    "units = [\"ED\", \"MICU\", \"SICU\"]\n",
    "beds = {\n",
    "    \"ED\":[\"A1\", \"A2\", \"A3\"],\n",
    "    \"MICU\":[\"8-170\", \"8-171\", \"8-172\", \"8-173\"],\n",
    "    \"SICU\":[\"2-200\", \"2-201\", \"2-202\"]\n",
    "}\n",
    "sources = {\n",
    "    \"ED\":\"SERVER1\",\n",
    "    \"MICU\":\"SERVER2\",\n",
    "    \"SICU\":\"SERVER3\"\n",
    "}\n",
    "channels = {\n",
    "    \"1\":\"HR\",\n",
    "    \"2\":\"SpO2\",\n",
    "    \"3\":\"Resp\"\n",
    "}\n",
    "\n",
    "means = {\n",
    "    \"1\":72,\n",
    "    \"2\":98,\n",
    "    \"3\":15\n",
    "}\n",
    "\n",
    "sds = {\n",
    "    \"1\":10,\n",
    "    \"2\":2,\n",
    "    \"3\":2\n",
    "}\n",
    "\n",
    "starting_values = {}\n",
    "\n",
    "# Create initial list of starting values for each bed/channel combination\n",
    "for unit in units:\n",
    "    for bed in beds[unit]:\n",
    "        for channel in channels:\n",
    "            starting_values[bed+channel] = np.random.normal(means[channel],\n",
    "                                                            sds[channel],\n",
    "                                                            1)[0]    "
   ]
  },
  {
   "cell_type": "code",
   "execution_count": null,
   "metadata": {},
   "outputs": [],
   "source": [
    "# Genereate a random string\n",
    "def generate_id():\n",
    "    return binascii.b2a_hex(os.urandom(8)).decode('utf-8')\n",
    "\n",
    "def toiso(ts):\n",
    "    return datetime.fromtimestamp(ts).isoformat() + 'Z'\n",
    "\n",
    "# Generate a set of signals for a randomly selected bed\n",
    "def generate_signals(units, beds, sources, channels, starting_values, sds):\n",
    "    # Select a random unit and bed from that unit\n",
    "    unit = random.choice(units)\n",
    "    bed = random.choice(beds[unit])\n",
    "    \n",
    "    # Get current timestamp\n",
    "    ts = int(time.time())\n",
    "    \n",
    "    # Create JSON message with 1 and 2 ms offsets for msh_ts and rcv_ts\n",
    "    data = {\n",
    "        \"msh_ts\":toiso(ts+1),\n",
    "        \"start_ts\":toiso(ts),\n",
    "        \"unit\":unit,\n",
    "        \"bed\":bed,\n",
    "        \"src\":sources[unit],\n",
    "        \"msg_id\":generate_id(),\n",
    "        \"helix_rcv_ts\":toiso(ts+2),\n",
    "        \"tz_offset\":0,\n",
    "        \"obx_objects\":[],\n",
    "        \"hl7\":\"HL7MESSAGE...\"\n",
    "    }\n",
    "    \n",
    "    # Create set of OBX messages, 1 for each channel\n",
    "    z = 0\n",
    "    for channel in channels:\n",
    "        z += 1\n",
    "        \n",
    "        value = np.random.normal(starting_values[bed+channel], sds[channel], 1)[0]\n",
    "        \n",
    "        cur_signal = {\n",
    "            \"line\": z,\n",
    "            \"channel\": channel,\n",
    "            \"text\": int(value)\n",
    "        }\n",
    "        data[\"obx_objects\"].append(cur_signal)\n",
    "    \n",
    "    return data"
   ]
  },
  {
   "cell_type": "code",
   "execution_count": null,
   "metadata": {},
   "outputs": [],
   "source": [
    "while True:\n",
    "    for i in range(0,5):\n",
    "        cur_signal = generate_signals(units, beds, sources, channels, starting_values, sds)\n",
    "        queue_signals(cur_signal)\n",
    "    time.sleep(1)"
   ]
  },
  {
   "cell_type": "code",
   "execution_count": null,
   "metadata": {},
   "outputs": [],
   "source": []
  }
 ],
 "metadata": {
  "kernelspec": {
   "display_name": "Python 3",
   "language": "python",
   "name": "python3"
  },
  "language_info": {
   "codemirror_mode": {
    "name": "ipython",
    "version": 3
   },
   "file_extension": ".py",
   "mimetype": "text/x-python",
   "name": "python",
   "nbconvert_exporter": "python",
   "pygments_lexer": "ipython3",
   "version": "3.6.5"
  }
 },
 "nbformat": 4,
 "nbformat_minor": 2
}
